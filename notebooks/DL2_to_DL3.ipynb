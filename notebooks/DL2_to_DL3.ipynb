{
 "cells": [
  {
   "cell_type": "markdown",
   "id": "35d072ef",
   "metadata": {},
   "source": [
    "# Create DL3 files from DL2 observed data with the `lstchain_create_dl3_file` Tool"
   ]
  },
  {
   "cell_type": "markdown",
   "id": "25613774",
   "metadata": {},
   "source": [
    "To check the simple usage of the Tool, one can do the following in a terminal (`--help-all` for more detail)\n",
    "```\n",
    "$ lstchain_create_dl3_file --help\n",
    "```\n",
    "\n",
    "\n",
    "Currently, the Tool requires the information of the main observed source, name and RA/Dec position in degrees, to be passed as arguments, to enter source provenance information, in the final event list HDUs.\n",
    "\n",
    "One should use the same config file for event selection on the observed data, as used on the MC DL2 files for generating the IRFs, which are to be included in the final DL3 file.\n",
    "\n",
    "If one wants to use energy-dependent cuts on gammaness, the IRFs should also be produced with energy-dependent cuts, and should have the `GH_CUTS` HDU stored with the information of the cuts. The DL3 Tool will use this HDU to implement the specific cuts in the respective reco energy bin. Otherwise, the Tool will look for the global gammaness cut used in the header values of the IRF HDUs, and apply the same global gammaness cut.\n",
    "\n",
    "In this example, we will use:\n",
    " - a DL2 file stored at `/fefs/aswg/workspace/analysis-school-2024/DL2_to_DL3/DL2/`\n",
    " - IRF files in `/fefs/aswg/workspace/analysis-school-2024/DL2_to_DL3/IRF` produced previously in each of the MC testing nodes.\n",
    " - **IRF interpolation** method\n",
    "\n",
    "To get more explanation on the data format, check https://gamma-astro-data-formats.readthedocs.io/en/latest/index.html"
   ]
  },
  {
   "cell_type": "code",
   "execution_count": 9,
   "id": "c41975ca",
   "metadata": {},
   "outputs": [],
   "source": [
    "import numpy as np\n",
    "import matplotlib.pyplot as plt\n",
    "from traitlets.config.loader import Config\n",
    "from pathlib import Path\n",
    "\n",
    "from astropy.io import fits\n",
    "from astropy.table import QTable\n",
    "import astropy.units as u\n",
    "from astropy.coordinates import SkyCoord\n",
    "from gammapy.data import EventList\n",
    "\n",
    "from lstchain.paths import dl2_to_dl3_filename\n",
    "from lstchain.io.config import read_configuration_file"
   ]
  },
  {
   "cell_type": "markdown",
   "id": "cae4306d",
   "metadata": {},
   "source": [
    "# Input parameters to convert DL2 file to DL3"
   ]
  },
  {
   "cell_type": "code",
   "execution_count": 7,
   "id": "1c2564f1",
   "metadata": {},
   "outputs": [],
   "source": [
    "# Modify the paths as applicable.\n",
    "base_dir = Path(\"/fefs/aswg/workspace/analysis-school-2024/DL2_to_DL3\")\n",
    "\n",
    "input_dl2_path = base_dir / \"DL2\" / \"dl2_LST-1.Run16074.h5\"\n",
    "irf_directory = base_dir / \"IRF\"\n",
    "\n",
    "dl3_dir = \"DL2_to_DL3/DL3\"\n",
    "\n",
    "dl3_filename = dl2_to_dl3_filename(input_dl2_path)\n",
    "\n",
    "# output_dl3_path = base_dir / \"DL3\"\n",
    "output_dl3_path = Path(\"./DL3\")\n",
    "output_dl3_path.mkdir(exist_ok=True, parents=True)\n",
    "\n",
    "# One can used the same config file as the one used for the IRF creation since \n",
    "# it also contains the DL3 cuts and event filter sections.\n",
    "# Vary the following parameters for different cuts.\n",
    "# config_file = \"../docs/examples/irf_tool_config.json\"\n",
    "config_file = \"/fefs/aswg/workspace/analysis-school-2024/cta-lstchain/docs/examples/irf_tool_config.json\"\n",
    "\n",
    "source_name = \"Crab\"\n",
    "source_ra = \"83.63308333deg\"\n",
    "source_dec = \"22.0145deg\"\n",
    "\n",
    "# Coordinates can be retrieved from Astropy for sources present in the CDS\n",
    "# SkyCoord.from_name(\"Crab\")"
   ]
  },
  {
   "cell_type": "code",
   "execution_count": 20,
   "id": "6b75727d-08ea-4e36-837b-7a50811f3fc7",
   "metadata": {},
   "outputs": [
    {
     "name": "stdout",
     "output_type": "stream",
     "text": [
      "DataReductionFITSWriter.provenance.log\tfinal_irf.fits.gz\n",
      "FITSIndexWriter.provenance.log\t\thdu-index.fits.gz\n",
      "dl3_LST-1.Run16074.fits\t\t\tobs-index.fits.gz\n"
     ]
    }
   ],
   "source": [
    "!ls ./DL3"
   ]
  },
  {
   "cell_type": "code",
   "execution_count": 4,
   "id": "4b3379fa",
   "metadata": {},
   "outputs": [
    {
     "data": {
      "text/plain": [
       "{'EventSelector': {'filters': {'intensity': [50, inf],\n",
       "   'width': [0, inf],\n",
       "   'length': [0, inf],\n",
       "   'r': [0, 1],\n",
       "   'wl': [0.01, 1],\n",
       "   'leakage_intensity_width_2': [0, 1],\n",
       "   'event_type': [32, 32]}},\n",
       " 'DL3Cuts': {'min_event_p_en_bin': 100,\n",
       "  'global_gh_cut': 0.7,\n",
       "  'gh_efficiency': 0.7,\n",
       "  'min_gh_cut': 0.1,\n",
       "  'max_gh_cut': 0.98,\n",
       "  'global_alpha_cut': 10,\n",
       "  'global_theta_cut': 0.2,\n",
       "  'theta_containment': 0.7,\n",
       "  'alpha_containment': 0.7,\n",
       "  'min_theta_cut': 0.1,\n",
       "  'max_theta_cut': 0.32,\n",
       "  'fill_theta_cut': 0.32,\n",
       "  'min_alpha_cut': 1,\n",
       "  'max_alpha_cut': 20,\n",
       "  'fill_alpha_cut': 20,\n",
       "  'allowed_tels': [1]},\n",
       " 'DataBinning': {'true_energy_min': 0.005,\n",
       "  'true_energy_max': 500,\n",
       "  'true_energy_n_bins': 25,\n",
       "  'reco_energy_min': 0.005,\n",
       "  'reco_energy_max': 500,\n",
       "  'reco_energy_n_bins': 25,\n",
       "  'energy_migration_min': 0.2,\n",
       "  'energy_migration_max': 5,\n",
       "  'energy_migration_n_bins': 30,\n",
       "  'fov_offset_min': 0.1,\n",
       "  'fov_offset_max': 1.1,\n",
       "  'fov_offset_n_edges': 9,\n",
       "  'bkg_fov_offset_min': 0,\n",
       "  'bkg_fov_offset_max': 10,\n",
       "  'bkg_fov_offset_n_edges': 21,\n",
       "  'source_offset_min': 0,\n",
       "  'source_offset_max': 1,\n",
       "  'source_offset_n_edges': 101}}"
      ]
     },
     "execution_count": 4,
     "metadata": {},
     "output_type": "execute_result"
    }
   ],
   "source": [
    "config = Config(read_configuration_file(config_file))\n",
    "config"
   ]
  },
  {
   "cell_type": "markdown",
   "id": "a4a1dbb0-20a2-4aee-aa56-6073c336c5d2",
   "metadata": {},
   "source": [
    "!lstchain_create_dl3_file --help"
   ]
  },
  {
   "cell_type": "markdown",
   "id": "31083c6a-2e6e-4b9c-bc84-abd7da7caca7",
   "metadata": {},
   "source": [
    "# Running the tool"
   ]
  },
  {
   "cell_type": "code",
   "execution_count": 10,
   "id": "911516e1",
   "metadata": {},
   "outputs": [
    {
     "name": "stdout",
     "output_type": "stream",
     "text": [
      "The metadata are comparable\n",
      "The other parameter axes data are comparable\n",
      "2024-02-15 14:53:15,399 \u001b[1;31mERROR\u001b[0m [lstchain.high_level.interpolate] (interpolate.interpolate_irf): AL CUTS not present for IRF interpolation\n",
      "/fefs/aswg/software/conda/envs/lst-school-2024-02/lib/python3.11/site-packages/lstchain/reco/utils.py:536: FutureWarning: use_inf_as_na option is deprecated and will be removed in a future version. Convert inf values to NaN before operating instead.\n",
      "  with pd.option_context('mode.use_inf_as_na', True):\n",
      "\u001b[0m"
     ]
    }
   ],
   "source": [
    "!lstchain_create_dl3_file \\\n",
    "--input-dl2 $input_dl2_path \\\n",
    "--input-irf-path $irf_directory \\\n",
    "--output-dl3-path $output_dl3_path \\\n",
    "--source-name $source_name \\\n",
    "--source-ra=$source_ra \\\n",
    "--source-dec=$source_dec \\\n",
    "--config $config_file \\\n",
    "--overwrite"
   ]
  },
  {
   "cell_type": "markdown",
   "id": "4ccf291d-1af9-48c9-92fb-f18771ae2bbf",
   "metadata": {},
   "source": [
    "# Produce the index files\n",
    "\n",
    " - hdu-index.fits.gz\n",
    " - obs-index.fits.gz"
   ]
  },
  {
   "cell_type": "markdown",
   "id": "4bb5135f",
   "metadata": {},
   "source": [
    "!lstchain_create_dl3_index_files --help-all"
   ]
  },
  {
   "cell_type": "code",
   "execution_count": 11,
   "id": "5aa8ee32",
   "metadata": {},
   "outputs": [
    {
     "name": "stdout",
     "output_type": "stream",
     "text": [
      "2024-02-15 14:56:34,278 \u001b[1;31mERROR\u001b[0m [lstchain.high_level.hdu_table] (hdu_table.create_hdu_index_hdu): Run 16074 does not contain HDU BACKGROUND\n",
      "2024-02-15 14:56:34,278 \u001b[1;31mERROR\u001b[0m [lstchain.high_level.hdu_table] (hdu_table.create_hdu_index_hdu): Run 16074 does not contain HDU PSF\n",
      "\u001b[0m"
     ]
    }
   ],
   "source": [
    "! lstchain_create_dl3_index_files \\\n",
    "--input-dl3-dir $output_dl3_path \\\n",
    "--file-pattern dl3*fits \\\n",
    "--overwrite"
   ]
  },
  {
   "cell_type": "markdown",
   "id": "f8854e99",
   "metadata": {},
   "source": [
    "# Check the DL3 info"
   ]
  },
  {
   "cell_type": "code",
   "execution_count": 12,
   "id": "18e06dc2",
   "metadata": {},
   "outputs": [
    {
     "name": "stdout",
     "output_type": "stream",
     "text": [
      "Filename: DL3/dl3_LST-1.Run16074.fits\n",
      "No.    Name      Ver    Type      Cards   Dimensions   Format\n",
      "  0  PRIMARY       1 PrimaryHDU       4   ()      \n",
      "  1  EVENTS        1 BinTableHDU     76   2006989R x 11C   [K, D, D, D, D, D, K, D, D, D, D]   \n",
      "  2  GTI           1 BinTableHDU     29   1R x 2C   [D, D]   \n",
      "  3  POINTING      1 BinTableHDU     44   1R x 5C   [D, D, D, D, D]   \n",
      "  4  EFFECTIVE AREA    1 BinTableHDU     46   1R x 5C   [25D, 25D, D, D, 25D]   \n",
      "  5  ENERGY DISPERSION    1 BinTableHDU     52   1R x 7C   [25D, 25D, 30D, 30D, D, D, 750D]   \n",
      "  6  GH_CUTS       1 BinTableHDU     35   25R x 5C   [D, D, D, K, D]   \n",
      "  7  RAD_MAX       1 BinTableHDU     49   1R x 5C   [25D, 25D, D, D, 25D]   \n"
     ]
    }
   ],
   "source": [
    "f = fits.open(output_dl3_path / dl3_filename)\n",
    "f.info()"
   ]
  },
  {
   "cell_type": "code",
   "execution_count": 13,
   "id": "89a42bc1",
   "metadata": {},
   "outputs": [
    {
     "data": {
      "text/html": [
       "<div><i>QTable length=6</i>\n",
       "<table id=\"table140255991335120\" class=\"table-striped table-bordered table-condensed\">\n",
       "<thead><tr><th>OBS_ID</th><th>HDU_TYPE</th><th>HDU_CLASS</th><th>FILE_DIR</th><th>FILE_NAME</th><th>HDU_NAME</th><th>SIZE</th></tr></thead>\n",
       "<thead><tr><th>int64</th><th>bytes8</th><th>bytes10</th><th>bytes1</th><th>bytes23</th><th>bytes17</th><th>int64</th></tr></thead>\n",
       "<tr><td>16074</td><td>events</td><td>events</td><td>.</td><td>dl3_LST-1.Run16074.fits</td><td>EVENTS</td><td>176679360</td></tr>\n",
       "<tr><td>16074</td><td>gti</td><td>gti</td><td>.</td><td>dl3_LST-1.Run16074.fits</td><td>GTI</td><td>176679360</td></tr>\n",
       "<tr><td>16074</td><td>pointing</td><td>pointing</td><td>.</td><td>dl3_LST-1.Run16074.fits</td><td>POINTING</td><td>176679360</td></tr>\n",
       "<tr><td>16074</td><td>aeff</td><td>aeff_2d</td><td>.</td><td>dl3_LST-1.Run16074.fits</td><td>EFFECTIVE AREA</td><td>176679360</td></tr>\n",
       "<tr><td>16074</td><td>edisp</td><td>edisp_2d</td><td>.</td><td>dl3_LST-1.Run16074.fits</td><td>ENERGY DISPERSION</td><td>176679360</td></tr>\n",
       "<tr><td>16074</td><td>rad_max</td><td>rad_max_2d</td><td>.</td><td>dl3_LST-1.Run16074.fits</td><td>RAD_MAX</td><td>176679360</td></tr>\n",
       "</table></div>"
      ],
      "text/plain": [
       "<QTable length=6>\n",
       "OBS_ID HDU_TYPE HDU_CLASS  FILE_DIR        FILE_NAME             HDU_NAME        SIZE  \n",
       "int64   bytes8   bytes10    bytes1          bytes23              bytes17        int64  \n",
       "------ -------- ---------- -------- ----------------------- ----------------- ---------\n",
       " 16074   events     events        . dl3_LST-1.Run16074.fits            EVENTS 176679360\n",
       " 16074      gti        gti        . dl3_LST-1.Run16074.fits               GTI 176679360\n",
       " 16074 pointing   pointing        . dl3_LST-1.Run16074.fits          POINTING 176679360\n",
       " 16074     aeff    aeff_2d        . dl3_LST-1.Run16074.fits    EFFECTIVE AREA 176679360\n",
       " 16074    edisp   edisp_2d        . dl3_LST-1.Run16074.fits ENERGY DISPERSION 176679360\n",
       " 16074  rad_max rad_max_2d        . dl3_LST-1.Run16074.fits           RAD_MAX 176679360"
      ]
     },
     "execution_count": 13,
     "metadata": {},
     "output_type": "execute_result"
    }
   ],
   "source": [
    "QTable.read(output_dl3_path / \"hdu-index.fits.gz\")"
   ]
  },
  {
   "cell_type": "code",
   "execution_count": 14,
   "id": "ef2cdb24",
   "metadata": {},
   "outputs": [
    {
     "data": {
      "text/plain": [
       "OrderedDict([('CREATOR', 'lstchain v0.10.7'),\n",
       "             ('HDUDOC',\n",
       "              'https://github.com/open-gamma-ray-astro/gamma-astro-data-formats'),\n",
       "             ('HDUVERS', '0.3'),\n",
       "             ('HDUCLASS', 'GADF'),\n",
       "             ('ORIGIN', 'CTA'),\n",
       "             ('TELESCOP', 'CTA-N'),\n",
       "             ('CREATED', '2024-02-15 14:56:34.280'),\n",
       "             ('HDUCLAS1', 'INDEX'),\n",
       "             ('HDUCLAS2', 'HDU'),\n",
       "             ('INSTRUME', 'LST-1'),\n",
       "             ('BASE_DIR',\n",
       "              '/fefs/home/francesco.schiavone/lst-analysis-school-2024/notebooks/DL3'),\n",
       "             ('EXTNAME', 'HDU INDEX')])"
      ]
     },
     "execution_count": 14,
     "metadata": {},
     "output_type": "execute_result"
    }
   ],
   "source": [
    "QTable.read(output_dl3_path / \"hdu-index.fits.gz\").meta"
   ]
  },
  {
   "cell_type": "code",
   "execution_count": 15,
   "id": "8d72865e",
   "metadata": {},
   "outputs": [
    {
     "data": {
      "text/html": [
       "<div><i>QTable length=1</i>\n",
       "<table id=\"table140261625055888\" class=\"table-striped table-bordered table-condensed\">\n",
       "<thead><tr><th>OBS_ID</th><th>DATE-OBS</th><th>TIME-OBS</th><th>DATE-END</th><th>TIME-END</th><th>RA_PNT</th><th>DEC_PNT</th><th>ZEN_PNT</th><th>ALT_PNT</th><th>AZ_PNT</th><th>RA_OBJ</th><th>DEC_OBJ</th><th>TSTART</th><th>TSTOP</th><th>ONTIME</th><th>TELAPSE</th><th>LIVETIME</th><th>DEADC</th><th>OBJECT</th><th>OBS_MODE</th><th>N_TELS</th><th>TELLIST</th><th>INSTRUME</th></tr></thead>\n",
       "<thead><tr><th></th><th></th><th></th><th></th><th></th><th>deg</th><th>deg</th><th>deg</th><th>deg</th><th>deg</th><th>deg</th><th>deg</th><th>s</th><th>s</th><th>s</th><th>s</th><th>s</th><th></th><th></th><th></th><th></th><th></th><th></th></tr></thead>\n",
       "<thead><tr><th>int64</th><th>bytes10</th><th>bytes12</th><th>bytes10</th><th>bytes12</th><th>float64</th><th>float64</th><th>float64</th><th>float64</th><th>float64</th><th>float64</th><th>float64</th><th>float64</th><th>float64</th><th>float64</th><th>float64</th><th>float64</th><th>float64</th><th>bytes4</th><th>bytes8</th><th>int64</th><th>bytes5</th><th>bytes5</th></tr></thead>\n",
       "<tr><td>16074</td><td>2023-12-14</td><td>03:11:29.897</td><td>2023-12-14</td><td>03:30:59.252</td><td>83.34511831068029</td><td>21.80115499165838</td><td>29.046791625038964</td><td>60.95320837496104</td><td>263.3361856730758</td><td>83.63308333</td><td>22.0145</td><td>164171489.89745498</td><td>164172659.25241733</td><td>1169.355238199234</td><td>1169.354962348938</td><td>1112.4332065035733</td><td>0.9513218653868446</td><td>Crab</td><td>POINTING</td><td>1</td><td>LST-1</td><td>LST-1</td></tr>\n",
       "</table></div>"
      ],
      "text/plain": [
       "<QTable length=1>\n",
       "OBS_ID  DATE-OBS    TIME-OBS    DATE-END    TIME-END         RA_PNT      ... OBJECT OBS_MODE N_TELS TELLIST INSTRUME\n",
       "                                                              deg        ...                                        \n",
       "int64   bytes10     bytes12     bytes10     bytes12         float64      ... bytes4  bytes8  int64   bytes5  bytes5 \n",
       "------ ---------- ------------ ---------- ------------ ----------------- ... ------ -------- ------ ------- --------\n",
       " 16074 2023-12-14 03:11:29.897 2023-12-14 03:30:59.252 83.34511831068029 ...   Crab POINTING      1   LST-1    LST-1"
      ]
     },
     "execution_count": 15,
     "metadata": {},
     "output_type": "execute_result"
    }
   ],
   "source": [
    "QTable.read(output_dl3_path / \"obs-index.fits.gz\")"
   ]
  },
  {
   "cell_type": "code",
   "execution_count": 16,
   "id": "aa28c0fd",
   "metadata": {},
   "outputs": [
    {
     "data": {
      "text/plain": [
       "OrderedDict([('CREATOR', 'lstchain v0.10.7'),\n",
       "             ('HDUDOC',\n",
       "              'https://github.com/open-gamma-ray-astro/gamma-astro-data-formats'),\n",
       "             ('HDUVERS', '0.3'),\n",
       "             ('HDUCLASS', 'GADF'),\n",
       "             ('ORIGIN', 'CTA'),\n",
       "             ('TELESCOP', 'CTA-N'),\n",
       "             ('CREATED', '2024-02-15 14:56:34.308'),\n",
       "             ('HDUCLAS1', 'INDEX'),\n",
       "             ('HDUCLAS2', 'OBS'),\n",
       "             ('INSTRUME', 'LST-1'),\n",
       "             ('MJDREFI', 58392),\n",
       "             ('MJDREFF', 0.0),\n",
       "             ('EXTNAME', 'OBS INDEX')])"
      ]
     },
     "execution_count": 16,
     "metadata": {},
     "output_type": "execute_result"
    }
   ],
   "source": [
    "QTable.read(output_dl3_path / \"obs-index.fits.gz\").meta"
   ]
  },
  {
   "cell_type": "code",
   "execution_count": 17,
   "id": "4261ddb5",
   "metadata": {},
   "outputs": [],
   "source": [
    "# Look into the DL3 content\n",
    "filename = output_dl3_path / \"dl3_LST-1.Run16074.fits\"\n",
    "events = EventList.read(filename)"
   ]
  },
  {
   "cell_type": "code",
   "execution_count": 18,
   "id": "293a95b6-19e9-4418-8307-10d23ff653fb",
   "metadata": {},
   "outputs": [
    {
     "data": {
      "text/html": [
       "<div><i>Table length=5</i>\n",
       "<table id=\"table140256011475600\" class=\"table-striped table-bordered table-condensed\">\n",
       "<thead><tr><th>EVENT_ID</th><th>TIME</th><th>RA</th><th>DEC</th><th>ENERGY</th><th>GAMMANESS</th><th>MULTIP</th><th>GLON</th><th>GLAT</th><th>ALT</th><th>AZ</th></tr></thead>\n",
       "<thead><tr><th></th><th>s</th><th>deg</th><th>deg</th><th>TeV</th><th></th><th></th><th>deg</th><th>deg</th><th>deg</th><th>deg</th></tr></thead>\n",
       "<thead><tr><th>int64</th><th>float64</th><th>float64</th><th>float64</th><th>float64</th><th>float64</th><th>int64</th><th>float64</th><th>float64</th><th>float64</th><th>float64</th></tr></thead>\n",
       "<tr><td>20</td><td>164171489.89745498</td><td>83.546712726762</td><td>21.07714821185084</td><td>0.039865483559792976</td><td>0.5155527139901388</td><td>1</td><td>185.31064235793858</td><td>-6.353690632302413</td><td>63.019661084757885</td><td>260.0244000792608</td></tr>\n",
       "<tr><td>23</td><td>164171489.89751577</td><td>84.18216877648118</td><td>22.093525561969894</td><td>0.06167756963619449</td><td>0.3899505776676602</td><td>1</td><td>184.7631696865144</td><td>-5.3117981969133</td><td>63.94291972537065</td><td>261.65480279724505</td></tr>\n",
       "<tr><td>41</td><td>164171489.89779043</td><td>80.82580090683412</td><td>21.251005014912273</td><td>0.047126796347841844</td><td>0.4769775173269689</td><td>1</td><td>183.77357659507047</td><td>-8.38961213364383</td><td>60.7292657046114</td><td>262.3717792149874</td></tr>\n",
       "<tr><td>47</td><td>164171489.89787507</td><td>83.71632895612436</td><td>20.68860192769277</td><td>0.06177167310212579</td><td>0.46515517411858204</td><td>1</td><td>185.72637563474638</td><td>-6.42710157568462</td><td>63.01519608256777</td><td>259.099600877809</td></tr>\n",
       "<tr><td>52</td><td>164171489.89793444</td><td>84.66801515231819</td><td>21.66871028656808</td><td>0.03143057008245397</td><td>0.48073873981822934</td><td>1</td><td>185.36491064080428</td><td>-5.154799112465871</td><td>64.2095619925816</td><td>260.37580587028896</td></tr>\n",
       "</table></div>"
      ],
      "text/plain": [
       "<Table length=5>\n",
       "EVENT_ID        TIME                RA        ...        GLAT               ALT                 AZ        \n",
       "                 s                 deg        ...        deg                deg                deg        \n",
       " int64        float64            float64      ...      float64            float64            float64      \n",
       "-------- ------------------ ----------------- ... ------------------ ------------------ ------------------\n",
       "      20 164171489.89745498   83.546712726762 ... -6.353690632302413 63.019661084757885  260.0244000792608\n",
       "      23 164171489.89751577 84.18216877648118 ...   -5.3117981969133  63.94291972537065 261.65480279724505\n",
       "      41 164171489.89779043 80.82580090683412 ...  -8.38961213364383   60.7292657046114  262.3717792149874\n",
       "      47 164171489.89787507 83.71632895612436 ...  -6.42710157568462  63.01519608256777   259.099600877809\n",
       "      52 164171489.89793444 84.66801515231819 ... -5.154799112465871   64.2095619925816 260.37580587028896"
      ]
     },
     "execution_count": 18,
     "metadata": {},
     "output_type": "execute_result"
    }
   ],
   "source": [
    "events.table[:5]"
   ]
  },
  {
   "cell_type": "code",
   "execution_count": null,
   "id": "9a88efd6-b68f-4ccf-a90f-cdc9352f7761",
   "metadata": {},
   "outputs": [],
   "source": []
  }
 ],
 "metadata": {
  "kernelspec": {
   "display_name": "Python 3 (ipykernel)",
   "language": "python",
   "name": "python3"
  },
  "language_info": {
   "codemirror_mode": {
    "name": "ipython",
    "version": 3
   },
   "file_extension": ".py",
   "mimetype": "text/x-python",
   "name": "python",
   "nbconvert_exporter": "python",
   "pygments_lexer": "ipython3",
   "version": "3.11.7"
  }
 },
 "nbformat": 4,
 "nbformat_minor": 5
}
